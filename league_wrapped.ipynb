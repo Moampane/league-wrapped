{
 "cells": [
  {
   "cell_type": "raw",
   "metadata": {},
   "source": [
    "---\n",
    "execute:\n",
    "  enabled: false\n",
    "---"
   ]
  },
  {
   "cell_type": "code",
   "execution_count": 73,
   "metadata": {},
   "outputs": [
    {
     "name": "stdout",
     "output_type": "stream",
     "text": [
      "The autoreload extension is already loaded. To reload it, use:\n",
      "  %reload_ext autoreload\n"
     ]
    }
   ],
   "source": [
    "%load_ext autoreload\n",
    "%autoreload 2"
   ]
  },
  {
   "attachments": {},
   "cell_type": "markdown",
   "metadata": {},
   "source": [
    "# League Wrapped: Your League of Legends Season in Review\n",
    "By Ian Lum and Mo Ampane"
   ]
  },
  {
   "attachments": {},
   "cell_type": "markdown",
   "metadata": {},
   "source": [
    "## Introduction\n",
    "\n",
    "Online games are plagued by toxicity. Many try to use gaming as a form of escape and entertainment but are unfortunately met by a barrage of insults, from a harasser who sits miles away in their room, protected by the barrier of the internet. The game “League of Legends” has one of the most notoriously toxic communities, which has driven many gamers to avoid the volatility of playing with random teammates and only play with their friends who they can trust—myself included. However, even people that you may consider friends can still exhibit extremely toxic behavior when gaming.\n",
    "\n",
    "\n",
    "Toxicity is often targeted towards those who appear to be playing poorly, with no regard for external context. The slang term, “diff,” short for “difference” has even been coined by the League of Legends community in order to harass these underperformers, used to indicate a lower level of skill of the underperformer when compared to their respective opponent. Our project strives to be a stepping stone in the path of lessening toxicity by showing a player their worst statistics in order to tell the story that everyone sucks sometimes.\n"
   ]
  },
  {
   "attachments": {},
   "cell_type": "markdown",
   "metadata": {},
   "source": [
    "## Setup\n",
    "\n",
    "In order to run the code below, you will need to compelte the following steps\n",
    "\n",
    "Creating an API key\n",
    "1. Sign in at the [Riot Developer Website](https://developer.riotgames.com/)\n",
    "2. Generate/Regenerate an API key\n",
    "3. Create a file called `key.txt` in the root directory\n",
    "4. Copy the API key into the first line of `key.txt`\n",
    "\n",
    "Run the following line in the command prompt to install `riotwatcher`\n",
    "> pip install riotwatcher"
   ]
  },
  {
   "attachments": {},
   "cell_type": "markdown",
   "metadata": {},
   "source": [
    "## Methodology\n",
    "\n",
    "We collected our data through the API of Riot Games, the developer of League of Legends. The League of Legends API works through creating a `LolWatcher` object, which the function `create_watcher` does."
   ]
  },
  {
   "cell_type": "code",
   "execution_count": 74,
   "metadata": {},
   "outputs": [
    {
     "ename": "TypeError",
     "evalue": "create_watcher() missing 1 required positional argument: 'filepath'",
     "output_type": "error",
     "traceback": [
      "\u001b[0;31m---------------------------------------------------------------------------\u001b[0m",
      "\u001b[0;31mTypeError\u001b[0m                                 Traceback (most recent call last)",
      "\u001b[0;32m/tmp/ipykernel_18810/3910326639.py\u001b[0m in \u001b[0;36m<module>\u001b[0;34m\u001b[0m\n\u001b[1;32m      1\u001b[0m \u001b[0;32mfrom\u001b[0m \u001b[0mmodules\u001b[0m\u001b[0;34m.\u001b[0m\u001b[0mscraper\u001b[0m \u001b[0;32mimport\u001b[0m \u001b[0mcreate_watcher\u001b[0m\u001b[0;34m\u001b[0m\u001b[0;34m\u001b[0m\u001b[0m\n\u001b[0;32m----> 2\u001b[0;31m \u001b[0mwatcher\u001b[0m \u001b[0;34m=\u001b[0m \u001b[0mcreate_watcher\u001b[0m\u001b[0;34m(\u001b[0m\u001b[0;34m)\u001b[0m\u001b[0;34m\u001b[0m\u001b[0;34m\u001b[0m\u001b[0m\n\u001b[0m",
      "\u001b[0;31mTypeError\u001b[0m: create_watcher() missing 1 required positional argument: 'filepath'"
     ]
    }
   ],
   "source": [
    "from modules.scraper import create_watcher\n",
    "watcher = create_watcher()"
   ]
  },
  {
   "attachments": {},
   "cell_type": "markdown",
   "metadata": {},
   "source": [
    "Next, `get_season_matchlist` creates a list of **match ids** for all matches that a given **summoner** played during **season 12**.\n",
    "- Match ids are strings that corresond to a certain match in the API. \n",
    "- Summoners are what League of Legends refers to players as\n",
    "- Season 12 refers to the period of time between 1/07/2022 and 11/14/2022. League of Legends splits the game into \"seasons\", with each \"season\" lasting just under a year, with the remaining time in the year being the \"preseason\"\n",
    "\n",
    "Ian's summoner name, Among Us Jimin, will be used the examples below. Additionally, the game is split into various world regions, in this case the region that Ian plays in is North America, denoted `na1`."
   ]
  },
  {
   "cell_type": "code",
   "execution_count": null,
   "metadata": {},
   "outputs": [
    {
     "name": "stdout",
     "output_type": "stream",
     "text": [
      "Ian played 407 matches in season 12\n",
      "An example of a match id is NA1_4491860733\n"
     ]
    }
   ],
   "source": [
    "from modules.scraper import get_season_matchlist\n",
    "SUMMONER_NAME = 'Among Us Jimin'\n",
    "REGION = 'na1'\n",
    "matchlist = get_season_matchlist(watcher, SUMMONER_NAME, REGION)\n",
    "print(f\"Ian played {len(matchlist)} matches in season 12\")\n",
    "print(f\"An example of a match id is {matchlist[0]}\")"
   ]
  },
  {
   "attachments": {},
   "cell_type": "markdown",
   "metadata": {},
   "source": [
    "Finally, `matchlist` is passed into `get_data_from_matchlist`. This function collects statistics for the given summoner in each match of the matchlist and compiles it into DataFrame. This DataFrame is saved to the file `data/[summoner_name].csv`.\n",
    "\n",
    "The function takes about 2 minutes per 100 matches, due to the rate limiting of the API. Because of this, the function below is commented out so it doesn't run when \"Run All\" is clicked. If you wish to see the function run, feel free to uncomment and execute the cell below."
   ]
  },
  {
   "cell_type": "code",
   "execution_count": null,
   "metadata": {},
   "outputs": [],
   "source": [
    "# from scraper import get_data_from_matchlist\n",
    "# ian_data = get_data_from_matchlist(watcher, SUMMONER_NAME, matchlist, REGION)"
   ]
  },
  {
   "attachments": {},
   "cell_type": "markdown",
   "metadata": {},
   "source": [
    "Instead, you can load the pre-scraped data using the cell below."
   ]
  },
  {
   "cell_type": "code",
   "execution_count": null,
   "metadata": {},
   "outputs": [],
   "source": [
    "import pandas as pd\n",
    "ian_data = pd.read_csv('data/Among Us Jimin.csv', index_col=0)"
   ]
  },
  {
   "attachments": {},
   "cell_type": "markdown",
   "metadata": {},
   "source": [
    "To get a sense of the data, the head of the data is displayed below."
   ]
  },
  {
   "cell_type": "code",
   "execution_count": null,
   "metadata": {},
   "outputs": [
    {
     "data": {
      "text/html": [
       "<div>\n",
       "<style scoped>\n",
       "    .dataframe tbody tr th:only-of-type {\n",
       "        vertical-align: middle;\n",
       "    }\n",
       "\n",
       "    .dataframe tbody tr th {\n",
       "        vertical-align: top;\n",
       "    }\n",
       "\n",
       "    .dataframe thead th {\n",
       "        text-align: right;\n",
       "    }\n",
       "</style>\n",
       "<table border=\"1\" class=\"dataframe\">\n",
       "  <thead>\n",
       "    <tr style=\"text-align: right;\">\n",
       "      <th></th>\n",
       "      <th>allInPings</th>\n",
       "      <th>assistMePings</th>\n",
       "      <th>assists</th>\n",
       "      <th>baitPings</th>\n",
       "      <th>baronKills</th>\n",
       "      <th>basicPings</th>\n",
       "      <th>bountyLevel</th>\n",
       "      <th>challenges</th>\n",
       "      <th>champExperience</th>\n",
       "      <th>champLevel</th>\n",
       "      <th>...</th>\n",
       "      <th>turretKills</th>\n",
       "      <th>turretTakedowns</th>\n",
       "      <th>turretsLost</th>\n",
       "      <th>unrealKills</th>\n",
       "      <th>visionClearedPings</th>\n",
       "      <th>visionScore</th>\n",
       "      <th>visionWardsBoughtInGame</th>\n",
       "      <th>wardsKilled</th>\n",
       "      <th>wardsPlaced</th>\n",
       "      <th>win</th>\n",
       "    </tr>\n",
       "  </thead>\n",
       "  <tbody>\n",
       "    <tr>\n",
       "      <th>NA1_4491860733</th>\n",
       "      <td>0.0</td>\n",
       "      <td>0.0</td>\n",
       "      <td>14</td>\n",
       "      <td>0.0</td>\n",
       "      <td>0</td>\n",
       "      <td>14.0</td>\n",
       "      <td>0</td>\n",
       "      <td>{'12AssistStreakCount': 0, 'abilityUses': 338,...</td>\n",
       "      <td>15444</td>\n",
       "      <td>16</td>\n",
       "      <td>...</td>\n",
       "      <td>0</td>\n",
       "      <td>1</td>\n",
       "      <td>9</td>\n",
       "      <td>0</td>\n",
       "      <td>0.0</td>\n",
       "      <td>103</td>\n",
       "      <td>9</td>\n",
       "      <td>8</td>\n",
       "      <td>53</td>\n",
       "      <td>False</td>\n",
       "    </tr>\n",
       "    <tr>\n",
       "      <th>NA1_4491823727</th>\n",
       "      <td>0.0</td>\n",
       "      <td>0.0</td>\n",
       "      <td>9</td>\n",
       "      <td>0.0</td>\n",
       "      <td>0</td>\n",
       "      <td>12.0</td>\n",
       "      <td>0</td>\n",
       "      <td>{'12AssistStreakCount': 0, 'abilityUses': 174,...</td>\n",
       "      <td>9336</td>\n",
       "      <td>12</td>\n",
       "      <td>...</td>\n",
       "      <td>0</td>\n",
       "      <td>0</td>\n",
       "      <td>10</td>\n",
       "      <td>0</td>\n",
       "      <td>0.0</td>\n",
       "      <td>68</td>\n",
       "      <td>5</td>\n",
       "      <td>6</td>\n",
       "      <td>35</td>\n",
       "      <td>False</td>\n",
       "    </tr>\n",
       "    <tr>\n",
       "      <th>NA1_4490062183</th>\n",
       "      <td>0.0</td>\n",
       "      <td>0.0</td>\n",
       "      <td>16</td>\n",
       "      <td>0.0</td>\n",
       "      <td>0</td>\n",
       "      <td>7.0</td>\n",
       "      <td>0</td>\n",
       "      <td>{'12AssistStreakCount': 0, 'abilityUses': 253,...</td>\n",
       "      <td>16796</td>\n",
       "      <td>17</td>\n",
       "      <td>...</td>\n",
       "      <td>0</td>\n",
       "      <td>0</td>\n",
       "      <td>11</td>\n",
       "      <td>0</td>\n",
       "      <td>0.0</td>\n",
       "      <td>60</td>\n",
       "      <td>4</td>\n",
       "      <td>2</td>\n",
       "      <td>32</td>\n",
       "      <td>False</td>\n",
       "    </tr>\n",
       "    <tr>\n",
       "      <th>NA1_4487436317</th>\n",
       "      <td>0.0</td>\n",
       "      <td>0.0</td>\n",
       "      <td>35</td>\n",
       "      <td>0.0</td>\n",
       "      <td>0</td>\n",
       "      <td>23.0</td>\n",
       "      <td>0</td>\n",
       "      <td>{'12AssistStreakCount': 2, 'abilityUses': 235,...</td>\n",
       "      <td>14112</td>\n",
       "      <td>15</td>\n",
       "      <td>...</td>\n",
       "      <td>0</td>\n",
       "      <td>5</td>\n",
       "      <td>7</td>\n",
       "      <td>0</td>\n",
       "      <td>0.0</td>\n",
       "      <td>68</td>\n",
       "      <td>4</td>\n",
       "      <td>1</td>\n",
       "      <td>25</td>\n",
       "      <td>True</td>\n",
       "    </tr>\n",
       "    <tr>\n",
       "      <th>NA1_4487390868</th>\n",
       "      <td>0.0</td>\n",
       "      <td>0.0</td>\n",
       "      <td>12</td>\n",
       "      <td>0.0</td>\n",
       "      <td>0</td>\n",
       "      <td>11.0</td>\n",
       "      <td>0</td>\n",
       "      <td>{'12AssistStreakCount': 1, 'abilityUses': 295,...</td>\n",
       "      <td>11928</td>\n",
       "      <td>14</td>\n",
       "      <td>...</td>\n",
       "      <td>1</td>\n",
       "      <td>2</td>\n",
       "      <td>10</td>\n",
       "      <td>0</td>\n",
       "      <td>0.0</td>\n",
       "      <td>86</td>\n",
       "      <td>7</td>\n",
       "      <td>11</td>\n",
       "      <td>35</td>\n",
       "      <td>False</td>\n",
       "    </tr>\n",
       "  </tbody>\n",
       "</table>\n",
       "<p>5 rows × 121 columns</p>\n",
       "</div>"
      ],
      "text/plain": [
       "                allInPings  assistMePings  assists  baitPings  baronKills  \\\n",
       "NA1_4491860733         0.0            0.0       14        0.0           0   \n",
       "NA1_4491823727         0.0            0.0        9        0.0           0   \n",
       "NA1_4490062183         0.0            0.0       16        0.0           0   \n",
       "NA1_4487436317         0.0            0.0       35        0.0           0   \n",
       "NA1_4487390868         0.0            0.0       12        0.0           0   \n",
       "\n",
       "                basicPings  bountyLevel  \\\n",
       "NA1_4491860733        14.0            0   \n",
       "NA1_4491823727        12.0            0   \n",
       "NA1_4490062183         7.0            0   \n",
       "NA1_4487436317        23.0            0   \n",
       "NA1_4487390868        11.0            0   \n",
       "\n",
       "                                                       challenges  \\\n",
       "NA1_4491860733  {'12AssistStreakCount': 0, 'abilityUses': 338,...   \n",
       "NA1_4491823727  {'12AssistStreakCount': 0, 'abilityUses': 174,...   \n",
       "NA1_4490062183  {'12AssistStreakCount': 0, 'abilityUses': 253,...   \n",
       "NA1_4487436317  {'12AssistStreakCount': 2, 'abilityUses': 235,...   \n",
       "NA1_4487390868  {'12AssistStreakCount': 1, 'abilityUses': 295,...   \n",
       "\n",
       "                champExperience  champLevel  ...  turretKills turretTakedowns  \\\n",
       "NA1_4491860733            15444          16  ...            0               1   \n",
       "NA1_4491823727             9336          12  ...            0               0   \n",
       "NA1_4490062183            16796          17  ...            0               0   \n",
       "NA1_4487436317            14112          15  ...            0               5   \n",
       "NA1_4487390868            11928          14  ...            1               2   \n",
       "\n",
       "                turretsLost  unrealKills  visionClearedPings  visionScore  \\\n",
       "NA1_4491860733            9            0                 0.0          103   \n",
       "NA1_4491823727           10            0                 0.0           68   \n",
       "NA1_4490062183           11            0                 0.0           60   \n",
       "NA1_4487436317            7            0                 0.0           68   \n",
       "NA1_4487390868           10            0                 0.0           86   \n",
       "\n",
       "                visionWardsBoughtInGame  wardsKilled  wardsPlaced    win  \n",
       "NA1_4491860733                        9            8           53  False  \n",
       "NA1_4491823727                        5            6           35  False  \n",
       "NA1_4490062183                        4            2           32  False  \n",
       "NA1_4487436317                        4            1           25   True  \n",
       "NA1_4487390868                        7           11           35  False  \n",
       "\n",
       "[5 rows x 121 columns]"
      ]
     },
     "execution_count": 19,
     "metadata": {},
     "output_type": "execute_result"
    }
   ],
   "source": [
    "ian_data.head()"
   ]
  },
  {
   "attachments": {},
   "cell_type": "markdown",
   "metadata": {},
   "source": [
    "The data was then analyzed to calculate 5 aggregate statistics: The 5 **champions** with the worst **KDA**, the 5 **champions** with the worst **winrate**, the game with the most deaths and the **champion** that was played, the game with the worst **cs/m** and the **champion** that was played, and the game with the worst **vision score** per minute and the **champion** that was played.\n",
    "\n",
    "Vocabulary:\n",
    "- Champion: Playable characters\n",
    "- KDA: Short for kill death assist ratio a ratio that is calculated by (kills + assists)/deaths\n",
    "- winrate: Percentage of games won, wins/games played\n",
    "- cs/m: Short for creep score per minute, an integral part of League of Legends, a higher creep score means you were better at collecting gold, which makes your character more powerful\n",
    "- vision score: Another integral part of League of Legends, you are able to scout for enemies by gaining vision, and the efficacy of your vision collection is tracked through vision score"
   ]
  },
  {
   "cell_type": "code",
   "execution_count": null,
   "metadata": {},
   "outputs": [
    {
     "name": "stdout",
     "output_type": "stream",
     "text": [
      "The champions that Ian had the worst KDA with were:\n"
     ]
    },
    {
     "data": {
      "text/plain": [
       "[{'champ': 'Olaf', 'kda': 0.16666666666666666, 'games_played': 1},\n",
       " {'champ': 'Nilah', 'kda': 0.7142857142857143, 'games_played': 1},\n",
       " {'champ': 'Garen', 'kda': 0.8181818181818182, 'games_played': 2},\n",
       " {'champ': 'Nasus', 'kda': 1.0, 'games_played': 1},\n",
       " {'champ': 'Viego', 'kda': 1.125, 'games_played': 1}]"
      ]
     },
     "execution_count": 20,
     "metadata": {},
     "output_type": "execute_result"
    }
   ],
   "source": [
    "from modules.analysis import worst_kda\n",
    "print(\"The champions that Ian had the worst KDA with were:\")\n",
    "worst_kda(ian_data)"
   ]
  },
  {
   "cell_type": "code",
   "execution_count": null,
   "metadata": {},
   "outputs": [
    {
     "name": "stdout",
     "output_type": "stream",
     "text": [
      "The champions that Ian had the worst winrate with were:\n"
     ]
    },
    {
     "data": {
      "text/plain": [
       "[{'champ': 'Zilean', 'winrate': 0.0, 'games_played': 7},\n",
       " {'champ': 'Evelynn', 'winrate': 0.16666666666666666, 'games_played': 6},\n",
       " {'champ': 'Seraphine', 'winrate': 0.2857142857142857, 'games_played': 7},\n",
       " {'champ': 'Kaisa', 'winrate': 0.3, 'games_played': 10},\n",
       " {'champ': 'Quinn', 'winrate': 0.3333333333333333, 'games_played': 6}]"
      ]
     },
     "execution_count": 21,
     "metadata": {},
     "output_type": "execute_result"
    }
   ],
   "source": [
    "from modules.analysis import worst_winrate\n",
    "print(\"The champions that Ian had the worst winrate with were:\")\n",
    "worst_winrate(ian_data)"
   ]
  },
  {
   "cell_type": "code",
   "execution_count": null,
   "metadata": {},
   "outputs": [
    {
     "name": "stdout",
     "output_type": "stream",
     "text": [
      "The most deaths Ian had in one game was 13, while playing Ashe\n"
     ]
    }
   ],
   "source": [
    "from modules.analysis import most_deaths\n",
    "(deaths, champ) = most_deaths(ian_data)\n",
    "print(f\"The most deaths Ian had in one game was {deaths}, while playing {champ}\")"
   ]
  },
  {
   "cell_type": "code",
   "execution_count": null,
   "metadata": {},
   "outputs": [
    {
     "name": "stdout",
     "output_type": "stream",
     "text": [
      "The cs/m Ian had in one game was 2.94, while playing Janna\n"
     ]
    }
   ],
   "source": [
    "from modules.analysis import least_cs\n",
    "(cs, champ) = least_cs(ian_data)\n",
    "print(f\"The cs/m Ian had in one game was {round(cs,2)}, while playing {champ}\")"
   ]
  },
  {
   "cell_type": "code",
   "execution_count": null,
   "metadata": {},
   "outputs": [
    {
     "name": "stdout",
     "output_type": "stream",
     "text": [
      "The vision score per minute Ian had in one game was 0.06, while playing Karma\n"
     ]
    }
   ],
   "source": [
    "from modules.analysis import worst_vs\n",
    "(vision, champ) = worst_vs(ian_data)\n",
    "print(f\"The vision score per minute Ian had in one game was {round(vision,2)}, while playing {champ}\")"
   ]
  },
  {
   "attachments": {},
   "cell_type": "markdown",
   "metadata": {},
   "source": [
    "## Results"
   ]
  },
  {
   "attachments": {},
   "cell_type": "markdown",
   "metadata": {},
   "source": [
    "After calculating the five aggregate statistics"
   ]
  },
  {
   "cell_type": "code",
   "execution_count": null,
   "metadata": {},
   "outputs": [
    {
     "data": {
      "image/png": "[encoded data removed]",
      "text/plain": [
       "<Figure size 640x480 with 1 Axes>"
      ]
     },
     "metadata": {},
     "output_type": "display_data"
    }
   ],
   "source": [
    "import matplotlib.pyplot as plt\n",
    "import matplotlib.image as mpimg\n",
    "img = mpimg.imread('assets/TEMPLATE_deaths.jpg')\n",
    "plt.imshow(img)\n",
    "plt.axis('off')\n",
    "plt.show()\n"
   ]
  }
 ],
 "metadata": {
  "kernelspec": {
   "display_name": "base",
   "language": "python",
   "name": "python3"
  },
  "language_info": {
   "codemirror_mode": {
    "name": "ipython",
    "version": 3
   },
   "file_extension": ".py",
   "mimetype": "text/x-python",
   "name": "python",
   "nbconvert_exporter": "python",
   "pygments_lexer": "ipython3",
   "version": "3.9.13"
  },
  "orig_nbformat": 4,
  "vscode": {
   "interpreter": {
    "hash": "e91364d1d4ed9782aca4a5933651cd628bbf7ca51d2afd5fd44a2cde6b72b4c5"
   }
  }
 },
 "nbformat": 4,
 "nbformat_minor": 2
}
